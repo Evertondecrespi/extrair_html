{
  "nbformat": 4,
  "nbformat_minor": 0,
  "metadata": {
    "colab": {
      "provenance": []
    },
    "kernelspec": {
      "name": "python3",
      "display_name": "Python 3"
    }
  },
  "cells": [
    {
      "cell_type": "markdown",
      "metadata": {
        "id": "8srKmVI1jhKa"
      },
      "source": [
        "# Extração de Informações de HTML"
      ]
    },
    {
      "cell_type": "code",
      "metadata": {
        "id": "bCtX0sb7Ic2v",
        "colab": {
          "base_uri": "https://localhost:8080/"
        },
        "outputId": "2467b917-1519-4d5c-a363-6efacc3f0837"
      },
      "source": [
        "!pip install urllib3 # instalar a biblioteca utllib3"
      ],
      "execution_count": null,
      "outputs": [
        {
          "output_type": "stream",
          "name": "stdout",
          "text": [
            "Requirement already satisfied: urllib3 in /usr/local/lib/python3.7/dist-packages (1.24.3)\n"
          ]
        }
      ]
    },
    {
      "cell_type": "code",
      "metadata": {
        "id": "0UE4vx8sIsYF",
        "colab": {
          "base_uri": "https://localhost:8080/"
        },
        "outputId": "8831e5f1-7933-46f8-81c1-69d06029b8b7"
      },
      "source": [
        "!pip install beautifulsoup4 # buscar exatamente as informações do HTML."
      ],
      "execution_count": null,
      "outputs": [
        {
          "output_type": "stream",
          "name": "stdout",
          "text": [
            "Requirement already satisfied: beautifulsoup4 in /usr/local/lib/python3.7/dist-packages (4.6.3)\n"
          ]
        }
      ]
    },
    {
      "cell_type": "code",
      "metadata": {
        "id": "-ynuutAQI2R5"
      },
      "source": [
        "import urllib3 # extrair o código fonte\n",
        "from bs4 import BeautifulSoup"
      ],
      "execution_count": null,
      "outputs": []
    },
    {
      "cell_type": "code",
      "metadata": {
        "id": "y0RrAK-YHa7x",
        "colab": {
          "base_uri": "https://localhost:8080/"
        },
        "outputId": "4b61a72f-b8bd-4432-fe6d-44aac48cc54a"
      },
      "source": [
        "# Vamos instalar e chamar a biblioteca urllib3\n",
        "# urllib3 é muito usada para busca e carregamento de informações de sites\n",
        "!pip install urllib3 # instalar a biblioteca utllib3\n",
        "!pip install beautifulsoup4 # buscar exatamente as informações do HTML.\n",
        "import urllib3 # extrair o código fonte\n",
        "from bs4 import BeautifulSoup"
      ],
      "execution_count": null,
      "outputs": [
        {
          "output_type": "stream",
          "name": "stdout",
          "text": [
            "Requirement already satisfied: urllib3 in /usr/local/lib/python3.7/dist-packages (1.24.3)\n",
            "Requirement already satisfied: beautifulsoup4 in /usr/local/lib/python3.7/dist-packages (4.6.3)\n"
          ]
        }
      ]
    },
    {
      "cell_type": "code",
      "metadata": {
        "id": "NrFOXURXiBvn"
      },
      "source": [
        "urllib3.disable_warnings(urllib3.exceptions.InsecureRequestWarning) # imperdir Avisos\n",
        "http = urllib3.PoolManager() #PoolManager é uma classe especifica para a busca de informações em sites da web\n",
        "pagina = http.request('GET','https://narguiledotom.blogspot.com/') # Podemos usar o método GET ou o método POST"
      ],
      "execution_count": null,
      "outputs": []
    },
    {
      "cell_type": "code",
      "metadata": {
        "id": "_Ub91WaDP5uF",
        "colab": {
          "base_uri": "https://localhost:8080/"
        },
        "outputId": "88d59cb0-c326-4e45-a233-1b60c8f8851f"
      },
      "source": [
        "pagina.status # Verifica se a busca das informações da página funcionou"
      ],
      "execution_count": null,
      "outputs": [
        {
          "output_type": "execute_result",
          "data": {
            "text/plain": [
              "200"
            ]
          },
          "metadata": {},
          "execution_count": 111
        }
      ]
    },
    {
      "cell_type": "markdown",
      "metadata": {
        "id": "V_wwUU_orniu"
      },
      "source": [
        "4.2. Extração de informações com BeautifulSoup"
      ]
    },
    {
      "cell_type": "code",
      "metadata": {
        "id": "QMxVmNRhqnIg",
        "colab": {
          "base_uri": "https://localhost:8080/",
          "height": 140
        },
        "outputId": "80882690-d167-4a7b-a0af-cad4491fbaa9"
      },
      "source": [
        "sopa = BeautifulSoup(pagina.data, \"lxml\") # BeautifulSoup faz a raspagem do site \n",
        "for tags in sopa(['script', 'style']):\n",
        "    tags.decompose()\n",
        "\n",
        "conteudo = ' '.join(sopa.stripped_strings)\n",
        "conteudo"
      ],
      "execution_count": null,
      "outputs": [
        {
          "output_type": "execute_result",
          "data": {
            "text/plain": [
              "'Narguile do Tom Narguile do Tom Blog criado para divulgação e venda de narguiles e acessórios. Contato: Tom Telefones (18) 9111-1063 ou (18) 8158-6111 - Faça sua encomenda agora! sábado, 8 de outubro de 2011 Atenção galera!!! Publicar postagem Postado por Tom às 22:02 Nenhum comentário: Enviar por e-mail Postar no blog! Compartilhar no Twitter Compartilhar no Facebook Compartilhar com o Pinterest domingo, 21 de agosto de 2011 Promoção Essencias e Carvão Nesta promoção voce paga\\xa03 essencias e 3 carvão\\xa0e\\xa0leva um carvão de brinde! \\ufeff Postado por Tom às 22:45 Nenhum comentário: Enviar por e-mail Postar no blog! Compartilhar no Twitter Compartilhar no Facebook Compartilhar com o Pinterest sexta-feira, 5 de agosto de 2011 Essências Essência - Vários sabores ! Postado por Tom às 12:13 Nenhum comentário: Enviar por e-mail Postar no blog! Compartilhar no Twitter Compartilhar no Facebook Compartilhar com o Pinterest quinta-feira, 4 de agosto de 2011 Narguiles Médio Comprando um narguile médio você ganha 1 carvão pastilha e 01 essência 50 gr Postado por Tom às 10:12 Nenhum comentário: Enviar por e-mail Postar no blog! Compartilhar no Twitter Compartilhar no Facebook Compartilhar com o Pinterest segunda-feira, 1 de agosto de 2011 Narguile médio 2 saídas Lançamento do mês de Agosto ! Grátis 01\\xa0Essência\\xa0e 01 Carvão Pastilha Postado por Tom às 12:15 Um comentário: Enviar por e-mail Postar no blog! Compartilhar no Twitter Compartilhar no Facebook Compartilhar com o Pinterest sábado, 30 de julho de 2011 Narguile Médio 1 Saída Para quem curte um Narguile médio com detalhes no vidro fosco Grátis 01\\xa0Essência\\xa0e 01 Carvão pastilha Postado por Tom às 10:50 Nenhum comentário: Enviar por e-mail Postar no blog! Compartilhar no Twitter Compartilhar no Facebook Compartilhar com o Pinterest sexta-feira, 29 de julho de 2011 Narguile Grande 2 Mangueiras - VENDIDO - VENDIDO Novidades do Fim do\\xa0Mês Grátis 01\\xa0Essência\\xa0e 01 Carvão Pastilha Postado por Tom às 23:18 Nenhum comentário: Enviar por e-mail Postar no blog! Compartilhar no Twitter Compartilhar no Facebook Compartilhar com o Pinterest Postagens mais antigas Página inicial Assinar: Postagens (Atom) Seguidores Arquivo do blog ▼ 2011 (9) ▼ Outubro (1) Atenção galera!!! ► Agosto (4) ► Julho (3) ► Junho (1) Quem sou eu Tom Osvaldo Cruz, SP, Brazil Vendedor de narguiles, Acessorios, Carvão e Essencias. Ver meu perfil completo O Narguile Narguilé é um cachimbo de água utilizado para fumar . Além desse nome, de origem árabe , também é chamado de hookah (na Índia e outros países que falam inglês ), shisha ou goza (nos países do norte da África ), narguilê , narguila , nakla , maguila , arguile , naguilé etc. Há diferenças regionais no formato e no funcionamento, mas o princípio comum é o fato de a fumaça passar pela água antes de chegar ao fumante . É tradicionalmente utilizado em muitos países do mundo, em especial no Norte da África, Oriente Médio e Sul da Ásia . Total de visualizações de página Everton Dall Evedove Crespi. Tema Janela de imagem. Tecnologia do Blogger .'"
            ],
            "application/vnd.google.colaboratory.intrinsic+json": {
              "type": "string"
            }
          },
          "metadata": {},
          "execution_count": 112
        }
      ]
    },
    {
      "cell_type": "code",
      "metadata": {
        "id": "V_vOXOQ0Lodv"
      },
      "source": [],
      "execution_count": null,
      "outputs": []
    },
    {
      "cell_type": "markdown",
      "metadata": {
        "id": "TGiaMLGQdHDQ"
      },
      "source": [
        "# Pré-Processamento"
      ]
    },
    {
      "cell_type": "markdown",
      "metadata": {
        "id": "b8FBz2EizYHj"
      },
      "source": [
        "4.3. Pré-Processamento"
      ]
    },
    {
      "cell_type": "code",
      "metadata": {
        "id": "Itbc7ikb2u92",
        "colab": {
          "base_uri": "https://localhost:8080/"
        },
        "outputId": "cb54c69a-630c-4008-b86b-10321446f5dd"
      },
      "source": [
        "# Instalar as bibliotecas para utilização do nltk\n",
        "! pip install nltk # Instalar a biblioteca NLTK\n",
        "import nltk # Instalar a biblioteca NLTK\n",
        "nltk.download('punkt') # no Google Colab é muito importante"
      ],
      "execution_count": null,
      "outputs": [
        {
          "output_type": "stream",
          "name": "stdout",
          "text": [
            "Requirement already satisfied: nltk in /usr/local/lib/python3.7/dist-packages (3.2.5)\n",
            "Requirement already satisfied: six in /usr/local/lib/python3.7/dist-packages (from nltk) (1.15.0)\n",
            "[nltk_data] Downloading package punkt to /root/nltk_data...\n",
            "[nltk_data]   Package punkt is already up-to-date!\n"
          ]
        },
        {
          "output_type": "execute_result",
          "data": {
            "text/plain": [
              "True"
            ]
          },
          "metadata": {},
          "execution_count": 113
        }
      ]
    },
    {
      "cell_type": "code",
      "metadata": {
        "id": "L_MGAxJNyNZM",
        "colab": {
          "base_uri": "https://localhost:8080/",
          "height": 140
        },
        "outputId": "5a650b8a-4dc2-4d40-c5a5-6ee818095e1c"
      },
      "source": [
        "# Pré-processamento: Expressões Regulares\n",
        "# Biblioteca para utilização de Expressões Regulares\n",
        "import re\n",
        "conteudo_sem_numero = re.sub('[-|0-9]',' ', conteudo) # Retirar todos os números da frase\n",
        "conteudo_sem_numero # vamos ver os resultados"
      ],
      "execution_count": null,
      "outputs": [
        {
          "output_type": "execute_result",
          "data": {
            "text/plain": [
              "'Narguile do Tom Narguile do Tom Blog criado para divulgação e venda de narguiles e acessórios. Contato: Tom Telefones (  )           ou (  )             Faça sua encomenda agora! sábado,   de outubro de      Atenção galera!!! Publicar postagem Postado por Tom às   :   Nenhum comentário: Enviar por e mail Postar no blog! Compartilhar no Twitter Compartilhar no Facebook Compartilhar com o Pinterest domingo,    de agosto de      Promoção Essencias e Carvão Nesta promoção voce paga\\xa0  essencias e   carvão\\xa0e\\xa0leva um carvão de brinde! \\ufeff Postado por Tom às   :   Nenhum comentário: Enviar por e mail Postar no blog! Compartilhar no Twitter Compartilhar no Facebook Compartilhar com o Pinterest sexta feira,   de agosto de      Essências Essência   Vários sabores ! Postado por Tom às   :   Nenhum comentário: Enviar por e mail Postar no blog! Compartilhar no Twitter Compartilhar no Facebook Compartilhar com o Pinterest quinta feira,   de agosto de      Narguiles Médio Comprando um narguile médio você ganha   carvão pastilha e    essência    gr Postado por Tom às   :   Nenhum comentário: Enviar por e mail Postar no blog! Compartilhar no Twitter Compartilhar no Facebook Compartilhar com o Pinterest segunda feira,   de agosto de      Narguile médio   saídas Lançamento do mês de Agosto ! Grátis   \\xa0Essência\\xa0e    Carvão Pastilha Postado por Tom às   :   Um comentário: Enviar por e mail Postar no blog! Compartilhar no Twitter Compartilhar no Facebook Compartilhar com o Pinterest sábado,    de julho de      Narguile Médio   Saída Para quem curte um Narguile médio com detalhes no vidro fosco Grátis   \\xa0Essência\\xa0e    Carvão pastilha Postado por Tom às   :   Nenhum comentário: Enviar por e mail Postar no blog! Compartilhar no Twitter Compartilhar no Facebook Compartilhar com o Pinterest sexta feira,    de julho de      Narguile Grande   Mangueiras   VENDIDO   VENDIDO Novidades do Fim do\\xa0Mês Grátis   \\xa0Essência\\xa0e    Carvão Pastilha Postado por Tom às   :   Nenhum comentário: Enviar por e mail Postar no blog! Compartilhar no Twitter Compartilhar no Facebook Compartilhar com o Pinterest Postagens mais antigas Página inicial Assinar: Postagens (Atom) Seguidores Arquivo do blog ▼      ( ) ▼ Outubro ( ) Atenção galera!!! ► Agosto ( ) ► Julho ( ) ► Junho ( ) Quem sou eu Tom Osvaldo Cruz, SP, Brazil Vendedor de narguiles, Acessorios, Carvão e Essencias. Ver meu perfil completo O Narguile Narguilé é um cachimbo de água utilizado para fumar . Além desse nome, de origem árabe , também é chamado de hookah (na Índia e outros países que falam inglês ), shisha ou goza (nos países do norte da África ), narguilê , narguila , nakla , maguila , arguile , naguilé etc. Há diferenças regionais no formato e no funcionamento, mas o princípio comum é o fato de a fumaça passar pela água antes de chegar ao fumante . É tradicionalmente utilizado em muitos países do mundo, em especial no Norte da África, Oriente Médio e Sul da Ásia . Total de visualizações de página Everton Dall Evedove Crespi. Tema Janela de imagem. Tecnologia do Blogger .'"
            ],
            "application/vnd.google.colaboratory.intrinsic+json": {
              "type": "string"
            }
          },
          "metadata": {},
          "execution_count": 114
        }
      ]
    },
    {
      "cell_type": "code",
      "metadata": {
        "id": "QJFsB68I72ki",
        "colab": {
          "base_uri": "https://localhost:8080/",
          "height": 140
        },
        "outputId": "8afddef2-1f7b-43a8-df32-9678343f151f"
      },
      "source": [
        "# Pré-processamento: Expressões Regulares\n",
        "# remover os símbolos de pontuação e outros símbolos (caracteres como copyright, por exemplo) de uma string.\n",
        "# caso queira deixar os caracteres acentuados, basta retirar do código\n",
        "conteudo_limpo = re.sub(u'[^a-zA-Z0-9áéíóúÁÉÍÓÚâêîôÂÊÎÔãõÃÕçÇ: ]', '', conteudo_sem_numero)\n",
        "conteudo_limpo"
      ],
      "execution_count": null,
      "outputs": [
        {
          "output_type": "execute_result",
          "data": {
            "text/plain": [
              "'Narguile do Tom Narguile do Tom Blog criado para divulgação e venda de narguiles e acessórios Contato: Tom Telefones              ou                Faça sua encomenda agora sábado   de outubro de      Atenção galera Publicar postagem Postado por Tom s   :   Nenhum comentário: Enviar por e mail Postar no blog Compartilhar no Twitter Compartilhar no Facebook Compartilhar com o Pinterest domingo    de agosto de      Promoção Essencias e Carvão Nesta promoção voce paga  essencias e   carvãoeleva um carvão de brinde  Postado por Tom s   :   Nenhum comentário: Enviar por e mail Postar no blog Compartilhar no Twitter Compartilhar no Facebook Compartilhar com o Pinterest sexta feira   de agosto de      Essências Essência   Vários sabores  Postado por Tom s   :   Nenhum comentário: Enviar por e mail Postar no blog Compartilhar no Twitter Compartilhar no Facebook Compartilhar com o Pinterest quinta feira   de agosto de      Narguiles Médio Comprando um narguile médio você ganha   carvão pastilha e    essência    gr Postado por Tom s   :   Nenhum comentário: Enviar por e mail Postar no blog Compartilhar no Twitter Compartilhar no Facebook Compartilhar com o Pinterest segunda feira   de agosto de      Narguile médio   saídas Lançamento do mês de Agosto  Grátis   Essênciae    Carvão Pastilha Postado por Tom s   :   Um comentário: Enviar por e mail Postar no blog Compartilhar no Twitter Compartilhar no Facebook Compartilhar com o Pinterest sábado    de julho de      Narguile Médio   Saída Para quem curte um Narguile médio com detalhes no vidro fosco Grátis   Essênciae    Carvão pastilha Postado por Tom s   :   Nenhum comentário: Enviar por e mail Postar no blog Compartilhar no Twitter Compartilhar no Facebook Compartilhar com o Pinterest sexta feira    de julho de      Narguile Grande   Mangueiras   VENDIDO   VENDIDO Novidades do Fim doMês Grátis   Essênciae    Carvão Pastilha Postado por Tom s   :   Nenhum comentário: Enviar por e mail Postar no blog Compartilhar no Twitter Compartilhar no Facebook Compartilhar com o Pinterest Postagens mais antigas Página inicial Assinar: Postagens Atom Seguidores Arquivo do blog          Outubro   Atenção galera  Agosto    Julho    Junho   Quem sou eu Tom Osvaldo Cruz SP Brazil Vendedor de narguiles Acessorios Carvão e Essencias Ver meu perfil completo O Narguile Narguilé é um cachimbo de água utilizado para fumar  Além desse nome de origem árabe  também é chamado de hookah na Índia e outros países que falam inglês  shisha ou goza nos países do norte da África  narguilê  narguila  nakla  maguila  arguile  naguilé etc Há diferenças regionais no formato e no funcionamento mas o princípio comum é o fato de a fumaça passar pela água antes de chegar ao fumante  É tradicionalmente utilizado em muitos países do mundo em especial no Norte da África Oriente Médio e Sul da Ásia  Total de visualizações de página Everton Dall Evedove Crespi Tema Janela de imagem Tecnologia do Blogger '"
            ],
            "application/vnd.google.colaboratory.intrinsic+json": {
              "type": "string"
            }
          },
          "metadata": {},
          "execution_count": 115
        }
      ]
    },
    {
      "cell_type": "code",
      "metadata": {
        "id": "25U3XtvSHhzk"
      },
      "source": [
        "# Pré-processamento: Tokenização\n",
        "import nltk\n",
        "from nltk.tokenize import word_tokenize\n",
        "from nltk.tokenize import sent_tokenize\n",
        "sentencas = sent_tokenize(conteudo_limpo)\n",
        "palavras_tokens = word_tokenize(conteudo_limpo.lower())\n",
        "palavras_tokens"
      ],
      "execution_count": null,
      "outputs": []
    },
    {
      "cell_type": "code",
      "metadata": {
        "id": "qtgxngWCH5Qd"
      },
      "source": [
        "# Pré-processamento: Retirando as StopWords\n",
        "nltk.download('stopwords')\n",
        "from nltk.corpus import stopwords\n",
        "from string import punctuation\n",
        "stopwords = set(stopwords.words('portuguese') + list(punctuation))\n",
        "stopwords.update(('b','pode','uso','ser','c','h'))\n",
        "conteudo_sem_stopwords_portugues = [palavras_tokens for palavras_tokens in palavras_tokens if palavras_tokens not in stopwords]\n",
        "conteudo_sem_stopwords_portugues"
      ],
      "execution_count": null,
      "outputs": []
    },
    {
      "cell_type": "code",
      "source": [
        "# Pré-processamento: Retirando as StopWords\n",
        "nltk.download('stopwords')\n",
        "from nltk.corpus import stopwords\n",
        "from string import punctuation\n",
        "stopwords = set(stopwords.words('english') + list(punctuation))\n",
        "conteudo_sem_stopwords_ingles = [conteudo_sem_stopwords_portugues for conteudo_sem_stopwords_portugues in conteudo_sem_stopwords_portugues if conteudo_sem_stopwords_portugues not in stopwords]\n",
        "conteudo_sem_stopwords_ingles"
      ],
      "metadata": {
        "id": "O0b6cOUY3Kl1"
      },
      "execution_count": null,
      "outputs": []
    },
    {
      "cell_type": "code",
      "metadata": {
        "id": "LjCQJUw2GApO"
      },
      "source": [
        "# Pré-processamento: Distribuição de Frequência de Palavras\n",
        "from nltk.probability import FreqDist\n",
        "frequencia = FreqDist(conteudo_sem_stopwords_ingles)\n",
        "d = frequencia\n",
        "\n",
        "for i in sorted(d, key = d.get, reverse=True):\n",
        "    print(i, d[i])"
      ],
      "execution_count": null,
      "outputs": []
    },
    {
      "cell_type": "code",
      "metadata": {
        "id": "v6SaOEOekcTf"
      },
      "source": [
        "freq = nltk.FreqDist(frequencia)"
      ],
      "execution_count": null,
      "outputs": []
    },
    {
      "cell_type": "code",
      "metadata": {
        "id": "6VUTUlwfkhcv",
        "colab": {
          "base_uri": "https://localhost:8080/",
          "height": 333
        },
        "outputId": "9ae6e727-7486-4261-d4fe-68ad5ca0c079"
      },
      "source": [
        "freq.plot(20, cumulative=False)"
      ],
      "execution_count": null,
      "outputs": [
        {
          "output_type": "display_data",
          "data": {
            "text/plain": [
              "<Figure size 432x288 with 1 Axes>"
            ],
            "image/png": "[encoded data removed]"
          },
          "metadata": {
            "needs_background": "light"
          }
        }
      ]
    }
  ]
}